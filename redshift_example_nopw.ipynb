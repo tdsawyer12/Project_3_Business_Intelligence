{
 "cells": [
  {
   "cell_type": "code",
   "execution_count": 1,
   "metadata": {
    "ExecuteTime": {
     "end_time": "2020-12-05T19:46:52.575731Z",
     "start_time": "2020-12-05T19:46:51.621166Z"
    }
   },
   "outputs": [],
   "source": [
    "import psycopg2\n",
    "import numpy as np\n",
    "import pandas as pd\n",
    "from sqlalchemy import create_engine"
   ]
  },
  {
   "cell_type": "code",
   "execution_count": 2,
   "metadata": {
    "ExecuteTime": {
     "end_time": "2020-12-05T19:46:52.584932Z",
     "start_time": "2020-12-05T19:46:52.579751Z"
    }
   },
   "outputs": [],
   "source": [
    "# project-three-bi.clpkklnojmiu.us-east-2.redshift.amazonaws.com:5439/dev\n",
    "dbname = 'dev'\n",
    "host = 'project-three-bi.[yourendpointtinfo].us-east-2.redshift.amazonaws.com'\n",
    "user = 'your username'\n",
    "password = 'your password'\n",
    "port = '5439'\n",
    "\n",
    "endpoint = f\"postgresql://{user}:{password}@{host}:{port}/{dbname}\""
   ]
  },
  {
   "cell_type": "markdown",
   "metadata": {},
   "source": [
    "# read from redshift"
   ]
  },
  {
   "cell_type": "code",
   "execution_count": 3,
   "metadata": {
    "ExecuteTime": {
     "end_time": "2020-12-05T19:46:52.620078Z",
     "start_time": "2020-12-05T19:46:52.587757Z"
    }
   },
   "outputs": [],
   "source": [
    "my_connection = create_engine(endpoint)"
   ]
  },
  {
   "cell_type": "code",
   "execution_count": 4,
   "metadata": {
    "ExecuteTime": {
     "end_time": "2020-12-05T19:46:56.496507Z",
     "start_time": "2020-12-05T19:46:52.622612Z"
    }
   },
   "outputs": [],
   "source": [
    "query = \"SELECT * FROM mytable;\"\n",
    "df = pd.read_sql(query, my_connection)"
   ]
  },
  {
   "cell_type": "code",
   "execution_count": 5,
   "metadata": {
    "ExecuteTime": {
     "end_time": "2020-12-05T19:46:56.544439Z",
     "start_time": "2020-12-05T19:46:56.498980Z"
    }
   },
   "outputs": [
    {
     "data": {
      "text/html": [
       "<div>\n",
       "<style scoped>\n",
       "    .dataframe tbody tr th:only-of-type {\n",
       "        vertical-align: middle;\n",
       "    }\n",
       "\n",
       "    .dataframe tbody tr th {\n",
       "        vertical-align: top;\n",
       "    }\n",
       "\n",
       "    .dataframe thead th {\n",
       "        text-align: right;\n",
       "    }\n",
       "</style>\n",
       "<table border=\"1\" class=\"dataframe\">\n",
       "  <thead>\n",
       "    <tr style=\"text-align: right;\">\n",
       "      <th></th>\n",
       "      <th>uniq_id</th>\n",
       "      <th>product_name</th>\n",
       "      <th>brand_name</th>\n",
       "      <th>asin</th>\n",
       "      <th>category</th>\n",
       "      <th>upc_ean_code</th>\n",
       "      <th>list_price</th>\n",
       "      <th>selling_price</th>\n",
       "      <th>quantity</th>\n",
       "      <th>model_number</th>\n",
       "      <th>...</th>\n",
       "      <th>product_url</th>\n",
       "      <th>stock</th>\n",
       "      <th>product_details</th>\n",
       "      <th>dimensions</th>\n",
       "      <th>color</th>\n",
       "      <th>ingredients</th>\n",
       "      <th>direction_to_use</th>\n",
       "      <th>is_amazon_seller</th>\n",
       "      <th>size_quantity_variant</th>\n",
       "      <th>product_description</th>\n",
       "    </tr>\n",
       "  </thead>\n",
       "  <tbody>\n",
       "    <tr>\n",
       "      <th>0</th>\n",
       "      <td>00037729f1cb566e149f0beff2d9ffd3</td>\n",
       "      <td>Pokeno 2</td>\n",
       "      <td>None</td>\n",
       "      <td>None</td>\n",
       "      <td>Toys &amp; Games | Games &amp; Accessories | Card Games</td>\n",
       "      <td>None</td>\n",
       "      <td>None</td>\n",
       "      <td>$15.01</td>\n",
       "      <td>None</td>\n",
       "      <td>Pokeno(Return)</td>\n",
       "      <td>...</td>\n",
       "      <td>https://www.amazon.com/Bicycle-Pokeno-Return-2...</td>\n",
       "      <td>None</td>\n",
       "      <td>None</td>\n",
       "      <td>None</td>\n",
       "      <td>None</td>\n",
       "      <td>None</td>\n",
       "      <td>None</td>\n",
       "      <td>Y</td>\n",
       "      <td>None</td>\n",
       "      <td>None</td>\n",
       "    </tr>\n",
       "    <tr>\n",
       "      <th>1</th>\n",
       "      <td>0003a7ccfb779e7ac1664fb13145aff2</td>\n",
       "      <td>Medicom JUL188832 Peanuts: Surfer Snoopy Ultra...</td>\n",
       "      <td>None</td>\n",
       "      <td>None</td>\n",
       "      <td>None</td>\n",
       "      <td>None</td>\n",
       "      <td>None</td>\n",
       "      <td>$9.94</td>\n",
       "      <td>None</td>\n",
       "      <td>-</td>\n",
       "      <td>...</td>\n",
       "      <td>https://www.amazon.com/Medicom-JUL188832-Peanu...</td>\n",
       "      <td>None</td>\n",
       "      <td>None</td>\n",
       "      <td>None</td>\n",
       "      <td>None</td>\n",
       "      <td>None</td>\n",
       "      <td>None</td>\n",
       "      <td>Y</td>\n",
       "      <td>None</td>\n",
       "      <td>None</td>\n",
       "    </tr>\n",
       "    <tr>\n",
       "      <th>2</th>\n",
       "      <td>000f59b5765a88b998642b4fa5ffdc17</td>\n",
       "      <td>Darice 1177-01 Percussion Instrument D Shape w...</td>\n",
       "      <td>None</td>\n",
       "      <td>None</td>\n",
       "      <td>Toys &amp; Games | Learning &amp; Education | Musical ...</td>\n",
       "      <td>None</td>\n",
       "      <td>None</td>\n",
       "      <td>$6.90</td>\n",
       "      <td>None</td>\n",
       "      <td>1177-01</td>\n",
       "      <td>...</td>\n",
       "      <td>https://www.amazon.com/Darice-1177-01-Percussi...</td>\n",
       "      <td>None</td>\n",
       "      <td>None</td>\n",
       "      <td>None</td>\n",
       "      <td>None</td>\n",
       "      <td>None</td>\n",
       "      <td>None</td>\n",
       "      <td>Y</td>\n",
       "      <td>None</td>\n",
       "      <td>None</td>\n",
       "    </tr>\n",
       "    <tr>\n",
       "      <th>3</th>\n",
       "      <td>001d216315bc84347addbb1a9c7e5015</td>\n",
       "      <td>Melissa &amp; Doug Joey Magnetic Dress-Up Set (Pre...</td>\n",
       "      <td>None</td>\n",
       "      <td>None</td>\n",
       "      <td>Toys &amp; Games | Dress Up &amp; Pretend Play | Prete...</td>\n",
       "      <td>None</td>\n",
       "      <td>None</td>\n",
       "      <td>$11.69</td>\n",
       "      <td>None</td>\n",
       "      <td>3550</td>\n",
       "      <td>...</td>\n",
       "      <td>https://www.amazon.com/Melissa-Doug-Magnetic-E...</td>\n",
       "      <td>None</td>\n",
       "      <td>None</td>\n",
       "      <td>None</td>\n",
       "      <td>None</td>\n",
       "      <td>None</td>\n",
       "      <td>None</td>\n",
       "      <td>Y</td>\n",
       "      <td>None</td>\n",
       "      <td>None</td>\n",
       "    </tr>\n",
       "    <tr>\n",
       "      <th>4</th>\n",
       "      <td>001ea8215e519a8388c1f1574662550e</td>\n",
       "      <td>AMERICAN GREETINGS Rainbow Latex Balloons| Pac...</td>\n",
       "      <td>None</td>\n",
       "      <td>None</td>\n",
       "      <td>Home &amp; Kitchen | Home Décor | Candles &amp; Holder...</td>\n",
       "      <td>None</td>\n",
       "      <td>None</td>\n",
       "      <td>$10.17</td>\n",
       "      <td>None</td>\n",
       "      <td>113255.99</td>\n",
       "      <td>...</td>\n",
       "      <td>https://www.amazon.com/American-Greetings-Rain...</td>\n",
       "      <td>None</td>\n",
       "      <td>None</td>\n",
       "      <td>None</td>\n",
       "      <td>None</td>\n",
       "      <td>None</td>\n",
       "      <td>None</td>\n",
       "      <td>Y</td>\n",
       "      <td>None</td>\n",
       "      <td>None</td>\n",
       "    </tr>\n",
       "  </tbody>\n",
       "</table>\n",
       "<p>5 rows × 28 columns</p>\n",
       "</div>"
      ],
      "text/plain": [
       "                            uniq_id  \\\n",
       "0  00037729f1cb566e149f0beff2d9ffd3   \n",
       "1  0003a7ccfb779e7ac1664fb13145aff2   \n",
       "2  000f59b5765a88b998642b4fa5ffdc17   \n",
       "3  001d216315bc84347addbb1a9c7e5015   \n",
       "4  001ea8215e519a8388c1f1574662550e   \n",
       "\n",
       "                                        product_name brand_name  asin  \\\n",
       "0                                           Pokeno 2       None  None   \n",
       "1  Medicom JUL188832 Peanuts: Surfer Snoopy Ultra...       None  None   \n",
       "2  Darice 1177-01 Percussion Instrument D Shape w...       None  None   \n",
       "3  Melissa & Doug Joey Magnetic Dress-Up Set (Pre...       None  None   \n",
       "4  AMERICAN GREETINGS Rainbow Latex Balloons| Pac...       None  None   \n",
       "\n",
       "                                            category upc_ean_code list_price  \\\n",
       "0    Toys & Games | Games & Accessories | Card Games         None       None   \n",
       "1                                               None         None       None   \n",
       "2  Toys & Games | Learning & Education | Musical ...         None       None   \n",
       "3  Toys & Games | Dress Up & Pretend Play | Prete...         None       None   \n",
       "4  Home & Kitchen | Home Décor | Candles & Holder...         None       None   \n",
       "\n",
       "  selling_price quantity    model_number  ...  \\\n",
       "0        $15.01     None  Pokeno(Return)  ...   \n",
       "1         $9.94     None               -  ...   \n",
       "2         $6.90     None         1177-01  ...   \n",
       "3        $11.69     None            3550  ...   \n",
       "4        $10.17     None       113255.99  ...   \n",
       "\n",
       "                                         product_url stock product_details  \\\n",
       "0  https://www.amazon.com/Bicycle-Pokeno-Return-2...  None            None   \n",
       "1  https://www.amazon.com/Medicom-JUL188832-Peanu...  None            None   \n",
       "2  https://www.amazon.com/Darice-1177-01-Percussi...  None            None   \n",
       "3  https://www.amazon.com/Melissa-Doug-Magnetic-E...  None            None   \n",
       "4  https://www.amazon.com/American-Greetings-Rain...  None            None   \n",
       "\n",
       "  dimensions color ingredients direction_to_use is_amazon_seller  \\\n",
       "0       None  None        None             None                Y   \n",
       "1       None  None        None             None                Y   \n",
       "2       None  None        None             None                Y   \n",
       "3       None  None        None             None                Y   \n",
       "4       None  None        None             None                Y   \n",
       "\n",
       "  size_quantity_variant product_description  \n",
       "0                  None                None  \n",
       "1                  None                None  \n",
       "2                  None                None  \n",
       "3                  None                None  \n",
       "4                  None                None  \n",
       "\n",
       "[5 rows x 28 columns]"
      ]
     },
     "execution_count": 5,
     "metadata": {},
     "output_type": "execute_result"
    }
   ],
   "source": [
    "df.head()"
   ]
  },
  {
   "cell_type": "code",
   "execution_count": 6,
   "metadata": {
    "ExecuteTime": {
     "end_time": "2020-12-05T19:46:56.571914Z",
     "start_time": "2020-12-05T19:46:56.546945Z"
    }
   },
   "outputs": [],
   "source": [
    "df = df.fillna('')"
   ]
  },
  {
   "cell_type": "markdown",
   "metadata": {},
   "source": [
    "### Here we will extract the first item in the ctegory section for a broad over view of what item cetgories we have ###"
   ]
  },
  {
   "cell_type": "code",
   "execution_count": 7,
   "metadata": {
    "ExecuteTime": {
     "end_time": "2020-12-05T19:46:56.606607Z",
     "start_time": "2020-12-05T19:46:56.574890Z"
    }
   },
   "outputs": [
    {
     "data": {
      "text/html": [
       "<div>\n",
       "<style scoped>\n",
       "    .dataframe tbody tr th:only-of-type {\n",
       "        vertical-align: middle;\n",
       "    }\n",
       "\n",
       "    .dataframe tbody tr th {\n",
       "        vertical-align: top;\n",
       "    }\n",
       "\n",
       "    .dataframe thead th {\n",
       "        text-align: right;\n",
       "    }\n",
       "</style>\n",
       "<table border=\"1\" class=\"dataframe\">\n",
       "  <thead>\n",
       "    <tr style=\"text-align: right;\">\n",
       "      <th></th>\n",
       "      <th>category</th>\n",
       "      <th>parent_category</th>\n",
       "    </tr>\n",
       "  </thead>\n",
       "  <tbody>\n",
       "    <tr>\n",
       "      <th>0</th>\n",
       "      <td>Toys &amp; Games | Games &amp; Accessories | Card Games</td>\n",
       "      <td>Toys &amp; Games</td>\n",
       "    </tr>\n",
       "    <tr>\n",
       "      <th>1</th>\n",
       "      <td></td>\n",
       "      <td></td>\n",
       "    </tr>\n",
       "    <tr>\n",
       "      <th>2</th>\n",
       "      <td>Toys &amp; Games | Learning &amp; Education | Musical ...</td>\n",
       "      <td>Toys &amp; Games</td>\n",
       "    </tr>\n",
       "    <tr>\n",
       "      <th>3</th>\n",
       "      <td>Toys &amp; Games | Dress Up &amp; Pretend Play | Prete...</td>\n",
       "      <td>Toys &amp; Games</td>\n",
       "    </tr>\n",
       "    <tr>\n",
       "      <th>4</th>\n",
       "      <td>Home &amp; Kitchen | Home Décor | Candles &amp; Holder...</td>\n",
       "      <td>Home &amp; Kitchen</td>\n",
       "    </tr>\n",
       "  </tbody>\n",
       "</table>\n",
       "</div>"
      ],
      "text/plain": [
       "                                            category  parent_category\n",
       "0    Toys & Games | Games & Accessories | Card Games    Toys & Games \n",
       "1                                                                    \n",
       "2  Toys & Games | Learning & Education | Musical ...    Toys & Games \n",
       "3  Toys & Games | Dress Up & Pretend Play | Prete...    Toys & Games \n",
       "4  Home & Kitchen | Home Décor | Candles & Holder...  Home & Kitchen "
      ]
     },
     "execution_count": 7,
     "metadata": {},
     "output_type": "execute_result"
    }
   ],
   "source": [
    "df['parent_category'] = df['category'].apply(lambda row: row.split('|')[0])\n",
    "df[['category', 'parent_category']].head()"
   ]
  },
  {
   "cell_type": "code",
   "execution_count": 8,
   "metadata": {
    "ExecuteTime": {
     "end_time": "2020-12-05T19:46:56.626985Z",
     "start_time": "2020-12-05T19:46:56.610165Z"
    }
   },
   "outputs": [
    {
     "data": {
      "text/html": [
       "<div>\n",
       "<style scoped>\n",
       "    .dataframe tbody tr th:only-of-type {\n",
       "        vertical-align: middle;\n",
       "    }\n",
       "\n",
       "    .dataframe tbody tr th {\n",
       "        vertical-align: top;\n",
       "    }\n",
       "\n",
       "    .dataframe thead th {\n",
       "        text-align: right;\n",
       "    }\n",
       "</style>\n",
       "<table border=\"1\" class=\"dataframe\">\n",
       "  <thead>\n",
       "    <tr style=\"text-align: right;\">\n",
       "      <th></th>\n",
       "      <th>category</th>\n",
       "      <th>count</th>\n",
       "    </tr>\n",
       "  </thead>\n",
       "  <tbody>\n",
       "    <tr>\n",
       "      <th>0</th>\n",
       "      <td>Toys &amp; Games</td>\n",
       "      <td>6531</td>\n",
       "    </tr>\n",
       "    <tr>\n",
       "      <th>1</th>\n",
       "      <td></td>\n",
       "      <td>1036</td>\n",
       "    </tr>\n",
       "    <tr>\n",
       "      <th>2</th>\n",
       "      <td>Home &amp; Kitchen</td>\n",
       "      <td>658</td>\n",
       "    </tr>\n",
       "    <tr>\n",
       "      <th>3</th>\n",
       "      <td>Clothing, Shoes &amp; Jewelry</td>\n",
       "      <td>630</td>\n",
       "    </tr>\n",
       "    <tr>\n",
       "      <th>4</th>\n",
       "      <td>Sports &amp; Outdoors</td>\n",
       "      <td>539</td>\n",
       "    </tr>\n",
       "    <tr>\n",
       "      <th>5</th>\n",
       "      <td>Baby Products</td>\n",
       "      <td>212</td>\n",
       "    </tr>\n",
       "    <tr>\n",
       "      <th>6</th>\n",
       "      <td>Arts, Crafts &amp; Sewing</td>\n",
       "      <td>101</td>\n",
       "    </tr>\n",
       "    <tr>\n",
       "      <th>7</th>\n",
       "      <td>Office Products</td>\n",
       "      <td>76</td>\n",
       "    </tr>\n",
       "    <tr>\n",
       "      <th>8</th>\n",
       "      <td>Hobbies</td>\n",
       "      <td>34</td>\n",
       "    </tr>\n",
       "    <tr>\n",
       "      <th>9</th>\n",
       "      <td>Industrial &amp; Scientific</td>\n",
       "      <td>29</td>\n",
       "    </tr>\n",
       "  </tbody>\n",
       "</table>\n",
       "</div>"
      ],
      "text/plain": [
       "                     category  count\n",
       "0               Toys & Games    6531\n",
       "1                               1036\n",
       "2             Home & Kitchen     658\n",
       "3  Clothing, Shoes & Jewelry     630\n",
       "4          Sports & Outdoors     539\n",
       "5              Baby Products     212\n",
       "6      Arts, Crafts & Sewing     101\n",
       "7            Office Products      76\n",
       "8                    Hobbies      34\n",
       "9    Industrial & Scientific      29"
      ]
     },
     "execution_count": 8,
     "metadata": {},
     "output_type": "execute_result"
    }
   ],
   "source": [
    "top_ten_category = pd.DataFrame(df['parent_category'].value_counts()[:10])\n",
    "cols = ['category', 'count']\n",
    "top_ten_category_df = top_ten_category.reset_index()\n",
    "top_ten_category_df.columns = cols\n",
    "top_ten_category_df"
   ]
  },
  {
   "cell_type": "markdown",
   "metadata": {},
   "source": [
    "# Write to Redshift"
   ]
  },
  {
   "cell_type": "code",
   "execution_count": 9,
   "metadata": {
    "ExecuteTime": {
     "end_time": "2020-12-05T19:46:59.885682Z",
     "start_time": "2020-12-05T19:46:56.630004Z"
    }
   },
   "outputs": [],
   "source": [
    "top_ten_category_df.to_sql('top_ten_category_table', my_connection, index=False, if_exists='replace')"
   ]
  },
  {
   "cell_type": "markdown",
   "metadata": {},
   "source": [
    "# Read new Table"
   ]
  },
  {
   "cell_type": "code",
   "execution_count": 10,
   "metadata": {
    "ExecuteTime": {
     "end_time": "2020-12-05T19:47:01.471738Z",
     "start_time": "2020-12-05T19:46:59.889067Z"
    }
   },
   "outputs": [
    {
     "data": {
      "text/html": [
       "<div>\n",
       "<style scoped>\n",
       "    .dataframe tbody tr th:only-of-type {\n",
       "        vertical-align: middle;\n",
       "    }\n",
       "\n",
       "    .dataframe tbody tr th {\n",
       "        vertical-align: top;\n",
       "    }\n",
       "\n",
       "    .dataframe thead th {\n",
       "        text-align: right;\n",
       "    }\n",
       "</style>\n",
       "<table border=\"1\" class=\"dataframe\">\n",
       "  <thead>\n",
       "    <tr style=\"text-align: right;\">\n",
       "      <th></th>\n",
       "      <th>category</th>\n",
       "      <th>count</th>\n",
       "    </tr>\n",
       "  </thead>\n",
       "  <tbody>\n",
       "    <tr>\n",
       "      <th>0</th>\n",
       "      <td>Toys &amp; Games</td>\n",
       "      <td>6531</td>\n",
       "    </tr>\n",
       "    <tr>\n",
       "      <th>1</th>\n",
       "      <td></td>\n",
       "      <td>1036</td>\n",
       "    </tr>\n",
       "    <tr>\n",
       "      <th>2</th>\n",
       "      <td>Home &amp; Kitchen</td>\n",
       "      <td>658</td>\n",
       "    </tr>\n",
       "    <tr>\n",
       "      <th>3</th>\n",
       "      <td>Clothing, Shoes &amp; Jewelry</td>\n",
       "      <td>630</td>\n",
       "    </tr>\n",
       "    <tr>\n",
       "      <th>4</th>\n",
       "      <td>Sports &amp; Outdoors</td>\n",
       "      <td>539</td>\n",
       "    </tr>\n",
       "  </tbody>\n",
       "</table>\n",
       "</div>"
      ],
      "text/plain": [
       "                     category  count\n",
       "0               Toys & Games    6531\n",
       "1                               1036\n",
       "2             Home & Kitchen     658\n",
       "3  Clothing, Shoes & Jewelry     630\n",
       "4          Sports & Outdoors     539"
      ]
     },
     "execution_count": 10,
     "metadata": {},
     "output_type": "execute_result"
    }
   ],
   "source": [
    "query = \"SELECT * FROM top_ten_category_table;\"\n",
    "df2 = pd.read_sql(query, my_connection)\n",
    "df2.head()"
   ]
  },
  {
   "cell_type": "code",
   "execution_count": null,
   "metadata": {},
   "outputs": [],
   "source": []
  }
 ],
 "metadata": {
  "hide_input": false,
  "kernelspec": {
   "display_name": "Python [conda env:pyvizenv]",
   "language": "python",
   "name": "conda-env-pyvizenv-py"
  },
  "language_info": {
   "codemirror_mode": {
    "name": "ipython",
    "version": 3
   },
   "file_extension": ".py",
   "mimetype": "text/x-python",
   "name": "python",
   "nbconvert_exporter": "python",
   "pygments_lexer": "ipython3",
   "version": "3.7.7"
  }
 },
 "nbformat": 4,
 "nbformat_minor": 4
}
